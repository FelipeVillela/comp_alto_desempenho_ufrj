{
 "cells": [
  {
   "cell_type": "code",
   "execution_count": 20,
   "metadata": {},
   "outputs": [],
   "source": [
    "import subprocess\n",
    "import time\n",
    "import matplotlib.pyplot as plt"
   ]
  },
  {
   "cell_type": "code",
   "execution_count": 21,
   "metadata": {},
   "outputs": [],
   "source": [
    "#Definição de função para executar uma linha de comando e retornar o tempo de execução\n",
    "def get_exec_time(cmd_line):\n",
    "    start_time = time.time()\n",
    "    \n",
    "    # Executa o código com base na command line e aguarda a conclusão\n",
    "    subprocess.run(cmd_line, shell=True, check=True)\n",
    "    \n",
    "    end_time = time.time()\n",
    "    elapsed_time = end_time - start_time\n",
    "    return elapsed_time\n",
    "\n"
   ]
  },
  {
   "cell_type": "code",
   "execution_count": 22,
   "metadata": {},
   "outputs": [],
   "source": [
    "# Variáveis para escalabilidade Forte (Tamanho fixo, threads variam)\n",
    "strong_scalability = {\n",
    "    \"min_threads\": 1,\n",
    "    \"max_threads\": 10,\n",
    "    \"size\": 4000,\n",
    "    \"list_threads\": [],\n",
    "    \"results\": [],\n",
    "}\n",
    "\n",
    "\n",
    "# Obtém resultados para o caso de escalabilidade forte\n",
    "for threads in range(strong_scalability['min_threads'], strong_scalability['max_threads'] + 1):    \n",
    "    strong_scalability['list_threads'].append(threads)\n",
    "    \n",
    "    # Executa o programa  e guarda o tempo\n",
    "    strong_scalability['results'].append(\n",
    "        get_exec_time(f\"OMP_NUM_THREADS={threads} ./jacobi -n {strong_scalability['size']}\")\n",
    "    )\n",
    "\n"
   ]
  },
  {
   "cell_type": "code",
   "execution_count": 23,
   "metadata": {},
   "outputs": [
    {
     "data": {
      "image/png": "[encoded data removed]",
      "text/plain": [
       "<Figure size 432x288 with 1 Axes>"
      ]
     },
     "metadata": {
      "needs_background": "light"
     },
     "output_type": "display_data"
    }
   ],
   "source": [
    "# Gráfico de escalabilidade Forte\n",
    "\n",
    "\n",
    "plt.plot(strong_scalability['list_threads'], strong_scalability['results'])\n",
    "\n",
    "# Configurações do gráfico\n",
    "plt.xlabel('Número de Threads')\n",
    "plt.ylabel('Tempo (s)')\n",
    "plt.title('Escalabilidade Forte')\n",
    "\n",
    "# Exibição do gráfico\n",
    "plt.grid(True)\n",
    "plt.savefig(f'escalabilidade_forte.png')\n",
    "plt.show()\n",
    "\n"
   ]
  },
  {
   "cell_type": "code",
   "execution_count": 24,
   "metadata": {},
   "outputs": [],
   "source": [
    "# Variáveis escalabilidade Fraca (Tamanho do problema e número de threads variam)\n",
    "weak_scalability = {\n",
    "    \"min_threads\": 5,\n",
    "    \"max_threads\": 10,\n",
    "    \"size\": 500,\n",
    "    \"step\": 500,\n",
    "    \"list_threads\": [],\n",
    "    \"list_sizes\": [],\n",
    "    \"results\": [],\n",
    "}\n",
    "\n",
    "\n",
    "\n",
    "\n",
    "\n",
    "for threads in range(weak_scalability['min_threads'], weak_scalability['max_threads'] + 1):    \n",
    "    weak_scalability['list_threads'].append(threads)\n",
    "    weak_scalability['size'] = weak_scalability['size'] + weak_scalability['step']\n",
    "    weak_scalability['list_sizes'].append(weak_scalability['size'])\n",
    "    \n",
    "    # Executa o programa  e guarda o tempo\n",
    "    weak_scalability['results'].append(\n",
    "        get_exec_time(f\"OMP_NUM_THREADS={threads} ./jacobi -n {weak_scalability['size']}\")\n",
    "    )\n",
    "\n"
   ]
  },
  {
   "cell_type": "code",
   "execution_count": 25,
   "metadata": {},
   "outputs": [
    {
     "ename": "KeyError",
     "evalue": "'arr_threads'",
     "output_type": "error",
     "traceback": [
      "\u001b[0;31m---------------------------------------------------------------------------\u001b[0m",
      "\u001b[0;31mKeyError\u001b[0m                                  Traceback (most recent call last)",
      "\u001b[0;32m<ipython-input-25-d41a7824963b>\u001b[0m in \u001b[0;36m<module>\u001b[0;34m\u001b[0m\n\u001b[1;32m      2\u001b[0m \u001b[0;34m\u001b[0m\u001b[0m\n\u001b[1;32m      3\u001b[0m \u001b[0;34m\u001b[0m\u001b[0m\n\u001b[0;32m----> 4\u001b[0;31m \u001b[0mplt\u001b[0m\u001b[0;34m.\u001b[0m\u001b[0mplot\u001b[0m\u001b[0;34m(\u001b[0m\u001b[0mweak_scalability\u001b[0m\u001b[0;34m[\u001b[0m\u001b[0;34m'arr_threads'\u001b[0m\u001b[0;34m]\u001b[0m\u001b[0;34m,\u001b[0m \u001b[0mweak_scalability\u001b[0m\u001b[0;34m[\u001b[0m\u001b[0;34m'results'\u001b[0m\u001b[0;34m]\u001b[0m\u001b[0;34m)\u001b[0m\u001b[0;34m\u001b[0m\u001b[0;34m\u001b[0m\u001b[0m\n\u001b[0m\u001b[1;32m      5\u001b[0m \u001b[0;34m\u001b[0m\u001b[0m\n\u001b[1;32m      6\u001b[0m \u001b[0;31m# Configurações do gráfico\u001b[0m\u001b[0;34m\u001b[0m\u001b[0;34m\u001b[0m\u001b[0;34m\u001b[0m\u001b[0m\n",
      "\u001b[0;31mKeyError\u001b[0m: 'arr_threads'"
     ]
    }
   ],
   "source": [
    "# Gráfico de escalabilidade Fraca\n",
    "\n",
    "\n",
    "plt.plot(weak_scalability['list_threads'], weak_scalability['results'])\n",
    "\n",
    "# Configurações do gráfico\n",
    "plt.xlabel('Número de Threads')\n",
    "plt.ylabel('Tempo (s)')\n",
    "plt.title('Escalabilidade Fraca')\n",
    "\n",
    "# Exibição do gráfico\n",
    "plt.grid(True)\n",
    "plt.savefig(f'escalabilidade_fraca.png')\n",
    "plt.show()"
   ]
  }
 ],
 "metadata": {
  "kernelspec": {
   "display_name": "Python 3 (ipykernel)",
   "language": "python",
   "name": "python3"
  },
  "language_info": {
   "codemirror_mode": {
    "name": "ipython",
    "version": 3
   },
   "file_extension": ".py",
   "mimetype": "text/x-python",
   "name": "python",
   "nbconvert_exporter": "python",
   "pygments_lexer": "ipython3",
   "version": "3.8.10"
  },
  "vscode": {
   "interpreter": {
    "hash": "916dbcbb3f70747c44a77c7bcd40155683ae19c65e1c03b4aa3499c5328201f1"
   }
  }
 },
 "nbformat": 4,
 "nbformat_minor": 4
}
